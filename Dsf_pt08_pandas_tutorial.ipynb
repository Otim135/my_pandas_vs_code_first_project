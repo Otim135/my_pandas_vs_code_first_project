{
  "cells": [
    {
      "cell_type": "markdown",
      "id": "b0057330",
      "metadata": {
        "id": "b0057330",
        "papermill": {
          "duration": 0.027759,
          "end_time": "2023-09-02T01:33:31.083056",
          "exception": false,
          "start_time": "2023-09-02T01:33:31.055297",
          "status": "completed"
        },
        "tags": []
      },
      "source": [
        "# Pandas"
      ]
    },
    {
      "cell_type": "code",
      "execution_count": 8,
      "id": "af4685a1",
      "metadata": {},
      "outputs": [],
      "source": [
        "#install the below if excel is not working\n",
        "#%pip install openpyxl"
      ]
    },
    {
      "cell_type": "code",
      "execution_count": 1,
      "id": "33926e73",
      "metadata": {
        "execution": {
          "iopub.execute_input": "2023-09-02T01:33:31.133908Z",
          "iopub.status.busy": "2023-09-02T01:33:31.133439Z",
          "iopub.status.idle": "2023-09-02T01:33:31.528617Z",
          "shell.execute_reply": "2023-09-02T01:33:31.527423Z"
        },
        "id": "33926e73",
        "papermill": {
          "duration": 0.423572,
          "end_time": "2023-09-02T01:33:31.531247",
          "exception": false,
          "start_time": "2023-09-02T01:33:31.107675",
          "status": "completed"
        },
        "tags": []
      },
      "outputs": [],
      "source": [
        "#Import pandas and numpy\n",
        "import pandas as pd\n",
        "import numpy as np # used for mathematical computation # built on top of pandas"
      ]
    },
    {
      "cell_type": "markdown",
      "id": "ThucAu2CqalM",
      "metadata": {
        "id": "ThucAu2CqalM"
      },
      "source": [
        "Data stractures used in pandas\n",
        "1. pandas series\n",
        "2. pandas data Frame"
      ]
    },
    {
      "cell_type": "code",
      "execution_count": null,
      "id": "sCT1TbPU2ZmL",
      "metadata": {
        "id": "sCT1TbPU2ZmL"
      },
      "outputs": [],
      "source": [
        "#Create a list and convert it to pandas series\n"
      ]
    },
    {
      "cell_type": "code",
      "execution_count": null,
      "id": "te5xq6Wac6eG",
      "metadata": {
        "colab": {
          "base_uri": "https://localhost:8080/"
        },
        "id": "te5xq6Wac6eG",
        "outputId": "425f835e-3a19-4d9e-d2db-743452564175"
      },
      "outputs": [],
      "source": [
        "list2 = [5, 7, 10]\n"
      ]
    },
    {
      "cell_type": "code",
      "execution_count": null,
      "id": "RLW38bwAdRYF",
      "metadata": {
        "colab": {
          "base_uri": "https://localhost:8080/",
          "height": 143
        },
        "id": "RLW38bwAdRYF",
        "outputId": "64c9bcd4-3761-491f-b075-8eaa14a617c0"
      },
      "outputs": [],
      "source": [
        "data = [('Boat', 5), ('Car', 7), ('Ship', 10)]\n",
        "df = pd. DataFrame(data, columns=('Item', 'Price'))\n",
        "df"
      ]
    },
    {
      "cell_type": "markdown",
      "id": "6719d64a",
      "metadata": {
        "id": "6719d64a",
        "papermill": {
          "duration": 0.023873,
          "end_time": "2023-09-02T01:33:31.578638",
          "exception": false,
          "start_time": "2023-09-02T01:33:31.554765",
          "status": "completed"
        },
        "tags": []
      },
      "source": [
        "## Reading from files"
      ]
    },
    {
      "cell_type": "code",
      "execution_count": 9,
      "id": "6ea4431b",
      "metadata": {
        "execution": {
          "iopub.execute_input": "2023-09-02T01:33:31.628071Z",
          "iopub.status.busy": "2023-09-02T01:33:31.627270Z",
          "iopub.status.idle": "2023-09-02T01:33:38.343802Z",
          "shell.execute_reply": "2023-09-02T01:33:38.342750Z"
        },
        "id": "6ea4431b",
        "papermill": {
          "duration": 6.744504,
          "end_time": "2023-09-02T01:33:38.346531",
          "exception": false,
          "start_time": "2023-09-02T01:33:31.602027",
          "status": "completed"
        },
        "tags": []
      },
      "outputs": [],
      "source": [
        "#Loading the dataset #excel dataset\n"
      ]
    },
    {
      "cell_type": "markdown",
      "id": "7c13c106",
      "metadata": {
        "id": "7c13c106",
        "papermill": {
          "duration": 0.023515,
          "end_time": "2023-09-02T01:33:38.481739",
          "exception": false,
          "start_time": "2023-09-02T01:33:38.458224",
          "status": "completed"
        },
        "tags": []
      },
      "source": [
        "## Writing to files"
      ]
    },
    {
      "cell_type": "code",
      "execution_count": 10,
      "id": "5d25a108",
      "metadata": {
        "execution": {
          "iopub.execute_input": "2023-09-02T01:33:38.530642Z",
          "iopub.status.busy": "2023-09-02T01:33:38.529910Z",
          "iopub.status.idle": "2023-09-02T01:35:25.709277Z",
          "shell.execute_reply": "2023-09-02T01:35:25.708034Z"
        },
        "id": "5d25a108",
        "papermill": {
          "duration": 107.207695,
          "end_time": "2023-09-02T01:35:25.712796",
          "exception": false,
          "start_time": "2023-09-02T01:33:38.505101",
          "status": "completed"
        },
        "tags": []
      },
      "outputs": [],
      "source": [
        "#saving the file to csv # use to_csv() and set index = False\n"
      ]
    },
    {
      "cell_type": "markdown",
      "id": "a643a530",
      "metadata": {
        "id": "a643a530",
        "papermill": {
          "duration": 0.024491,
          "end_time": "2023-09-02T01:35:25.762726",
          "exception": false,
          "start_time": "2023-09-02T01:35:25.738235",
          "status": "completed"
        },
        "tags": []
      },
      "source": [
        "## Dataframe basics"
      ]
    },
    {
      "cell_type": "code",
      "execution_count": null,
      "id": "4c11ebed",
      "metadata": {
        "execution": {
          "iopub.execute_input": "2023-09-02T01:35:25.811245Z",
          "iopub.status.busy": "2023-09-02T01:35:25.810870Z",
          "iopub.status.idle": "2023-09-02T01:35:25.816019Z",
          "shell.execute_reply": "2023-09-02T01:35:25.814866Z"
        },
        "id": "4c11ebed",
        "papermill": {
          "duration": 0.032193,
          "end_time": "2023-09-02T01:35:25.818455",
          "exception": false,
          "start_time": "2023-09-02T01:35:25.786262",
          "status": "completed"
        },
        "tags": []
      },
      "outputs": [],
      "source": [
        "#setting the default data view # pd.set_option(\"display.max_columns\", 500)\n"
      ]
    },
    {
      "cell_type": "code",
      "execution_count": null,
      "id": "ff3a6cf7",
      "metadata": {
        "colab": {
          "base_uri": "https://localhost:8080/",
          "height": 302
        },
        "execution": {
          "iopub.execute_input": "2023-09-02T01:35:25.868777Z",
          "iopub.status.busy": "2023-09-02T01:35:25.868354Z",
          "iopub.status.idle": "2023-09-02T01:35:25.925205Z",
          "shell.execute_reply": "2023-09-02T01:35:25.923883Z"
        },
        "id": "ff3a6cf7",
        "outputId": "eb5b14ba-49ef-4019-b457-50e0cb2546bf",
        "papermill": {
          "duration": 0.085304,
          "end_time": "2023-09-02T01:35:25.928050",
          "exception": false,
          "start_time": "2023-09-02T01:35:25.842746",
          "status": "completed"
        },
        "tags": []
      },
      "outputs": [],
      "source": [
        "#Displaying the top 3 rows # use head()\n"
      ]
    },
    {
      "cell_type": "code",
      "execution_count": null,
      "id": "283a4663",
      "metadata": {
        "colab": {
          "base_uri": "https://localhost:8080/",
          "height": 377
        },
        "execution": {
          "iopub.execute_input": "2023-09-02T01:35:25.979297Z",
          "iopub.status.busy": "2023-09-02T01:35:25.978890Z",
          "iopub.status.idle": "2023-09-02T01:35:26.023712Z",
          "shell.execute_reply": "2023-09-02T01:35:26.022466Z"
        },
        "id": "283a4663",
        "outputId": "7ec6469c-4c72-4bb2-bd53-ca1f329f9620",
        "papermill": {
          "duration": 0.073958,
          "end_time": "2023-09-02T01:35:26.026569",
          "exception": false,
          "start_time": "2023-09-02T01:35:25.952611",
          "status": "completed"
        },
        "tags": []
      },
      "outputs": [],
      "source": [
        "#Displaying the last 3 rows # use tail()\n"
      ]
    },
    {
      "cell_type": "code",
      "execution_count": null,
      "id": "7d6c8517",
      "metadata": {
        "colab": {
          "base_uri": "https://localhost:8080/",
          "height": 297
        },
        "execution": {
          "iopub.execute_input": "2023-09-02T01:35:26.080048Z",
          "iopub.status.busy": "2023-09-02T01:35:26.079387Z",
          "iopub.status.idle": "2023-09-02T01:35:26.378347Z",
          "shell.execute_reply": "2023-09-02T01:35:26.377239Z"
        },
        "id": "7d6c8517",
        "outputId": "e1456a94-f4a1-4350-9416-7c34ffcf3484",
        "papermill": {
          "duration": 0.329761,
          "end_time": "2023-09-02T01:35:26.381025",
          "exception": false,
          "start_time": "2023-09-02T01:35:26.051264",
          "status": "completed"
        },
        "tags": []
      },
      "outputs": [],
      "source": [
        "#Displaying 3 random rows #use sample()\n"
      ]
    },
    {
      "cell_type": "code",
      "execution_count": null,
      "id": "61e68fee",
      "metadata": {
        "colab": {
          "base_uri": "https://localhost:8080/"
        },
        "execution": {
          "iopub.execute_input": "2023-09-02T01:35:26.776624Z",
          "iopub.status.busy": "2023-09-02T01:35:26.776081Z",
          "iopub.status.idle": "2023-09-02T01:35:26.784567Z",
          "shell.execute_reply": "2023-09-02T01:35:26.783349Z"
        },
        "id": "61e68fee",
        "outputId": "44e04991-eedc-4afd-ac9f-a59b7309573a",
        "papermill": {
          "duration": 0.038357,
          "end_time": "2023-09-02T01:35:26.786996",
          "exception": false,
          "start_time": "2023-09-02T01:35:26.748639",
          "status": "completed"
        },
        "tags": []
      },
      "outputs": [],
      "source": [
        "#checking the columns # use columns attribute\n"
      ]
    },
    {
      "cell_type": "code",
      "execution_count": null,
      "id": "31535341",
      "metadata": {
        "colab": {
          "base_uri": "https://localhost:8080/"
        },
        "execution": {
          "iopub.execute_input": "2023-09-02T01:35:26.842263Z",
          "iopub.status.busy": "2023-09-02T01:35:26.841833Z",
          "iopub.status.idle": "2023-09-02T01:35:26.848491Z",
          "shell.execute_reply": "2023-09-02T01:35:26.847759Z"
        },
        "id": "31535341",
        "outputId": "3b09f566-2a7c-460d-9083-cb54b092b52b",
        "papermill": {
          "duration": 0.037229,
          "end_time": "2023-09-02T01:35:26.850578",
          "exception": false,
          "start_time": "2023-09-02T01:35:26.813349",
          "status": "completed"
        },
        "tags": []
      },
      "outputs": [],
      "source": [
        "#checking the index # use df.index\n"
      ]
    },
    {
      "cell_type": "markdown",
      "id": "9ed582d0",
      "metadata": {
        "id": "9ed582d0",
        "papermill": {
          "duration": 0.025994,
          "end_time": "2023-09-02T01:35:26.902782",
          "exception": false,
          "start_time": "2023-09-02T01:35:26.876788",
          "status": "completed"
        },
        "tags": []
      },
      "source": [
        "## Dataframe summary"
      ]
    },
    {
      "cell_type": "code",
      "execution_count": null,
      "id": "667277eb",
      "metadata": {
        "colab": {
          "base_uri": "https://localhost:8080/"
        },
        "execution": {
          "iopub.execute_input": "2023-09-02T01:35:26.956635Z",
          "iopub.status.busy": "2023-09-02T01:35:26.956201Z",
          "iopub.status.idle": "2023-09-02T01:35:26.980573Z",
          "shell.execute_reply": "2023-09-02T01:35:26.979266Z"
        },
        "id": "667277eb",
        "outputId": "e5af7ba4-7310-4ddd-e9ab-5789bd72094c",
        "papermill": {
          "duration": 0.055054,
          "end_time": "2023-09-02T01:35:26.983678",
          "exception": false,
          "start_time": "2023-09-02T01:35:26.928624",
          "status": "completed"
        },
        "tags": []
      },
      "outputs": [],
      "source": [
        "#Checking the data Summary # use info(), we can also use info(verbose=False)\n"
      ]
    },
    {
      "cell_type": "code",
      "execution_count": 12,
      "id": "305ef5c3",
      "metadata": {
        "colab": {
          "base_uri": "https://localhost:8080/",
          "height": 459
        },
        "execution": {
          "iopub.execute_input": "2023-09-02T01:35:27.115455Z",
          "iopub.status.busy": "2023-09-02T01:35:27.114534Z",
          "iopub.status.idle": "2023-09-02T01:35:36.264714Z",
          "shell.execute_reply": "2023-09-02T01:35:36.263644Z"
        },
        "id": "305ef5c3",
        "outputId": "1d9483a7-d07b-47f6-9d4d-078d90813371",
        "papermill": {
          "duration": 9.18061,
          "end_time": "2023-09-02T01:35:36.267664",
          "exception": false,
          "start_time": "2023-09-02T01:35:27.087054",
          "status": "completed"
        },
        "tags": []
      },
      "outputs": [],
      "source": [
        "#Checking concise Descriptive statistics for numerical variables# use df.describe()\n"
      ]
    },
    {
      "cell_type": "code",
      "execution_count": null,
      "id": "daeecf9e",
      "metadata": {
        "colab": {
          "base_uri": "https://localhost:8080/"
        },
        "execution": {
          "iopub.execute_input": "2023-09-02T01:35:36.324483Z",
          "iopub.status.busy": "2023-09-02T01:35:36.324021Z",
          "iopub.status.idle": "2023-09-02T01:35:36.819105Z",
          "shell.execute_reply": "2023-09-02T01:35:36.817782Z"
        },
        "id": "daeecf9e",
        "outputId": "e067c9df-1141-43fb-acb4-44cb41b8ff68",
        "papermill": {
          "duration": 0.526119,
          "end_time": "2023-09-02T01:35:36.821849",
          "exception": false,
          "start_time": "2023-09-02T01:35:36.295730",
          "status": "completed"
        },
        "tags": []
      },
      "outputs": [],
      "source": [
        "#Checking concise Descriptive statistics for categorical variables# use df['col'].describe()\n"
      ]
    },
    {
      "cell_type": "code",
      "execution_count": null,
      "id": "39a375ac",
      "metadata": {
        "colab": {
          "base_uri": "https://localhost:8080/"
        },
        "execution": {
          "iopub.execute_input": "2023-09-02T01:35:36.878581Z",
          "iopub.status.busy": "2023-09-02T01:35:36.877687Z",
          "iopub.status.idle": "2023-09-02T01:35:36.883474Z",
          "shell.execute_reply": "2023-09-02T01:35:36.882732Z"
        },
        "id": "39a375ac",
        "outputId": "bd677f4a-5490-47c7-99f5-61fde5345c70",
        "papermill": {
          "duration": 0.036626,
          "end_time": "2023-09-02T01:35:36.886142",
          "exception": false,
          "start_time": "2023-09-02T01:35:36.849516",
          "status": "completed"
        },
        "tags": []
      },
      "outputs": [],
      "source": [
        "#checking the number of variables and records, use df.shape,   or len(df)\n"
      ]
    },
    {
      "cell_type": "markdown",
      "id": "fe23535e",
      "metadata": {
        "id": "fe23535e",
        "papermill": {
          "duration": 0.026322,
          "end_time": "2023-09-02T01:35:36.939728",
          "exception": false,
          "start_time": "2023-09-02T01:35:36.913406",
          "status": "completed"
        },
        "tags": []
      },
      "source": [
        "## Subsetting Columns\n",
        "\n",
        "This is the act of selecting  a few columns from the entire dataframe."
      ]
    },
    {
      "cell_type": "code",
      "execution_count": null,
      "id": "5231a5cc",
      "metadata": {
        "colab": {
          "base_uri": "https://localhost:8080/",
          "height": 206
        },
        "execution": {
          "iopub.execute_input": "2023-09-02T01:35:36.996026Z",
          "iopub.status.busy": "2023-09-02T01:35:36.995391Z",
          "iopub.status.idle": "2023-09-02T01:35:37.123089Z",
          "shell.execute_reply": "2023-09-02T01:35:37.121920Z"
        },
        "id": "5231a5cc",
        "outputId": "c3568e28-bbda-4dd4-cea2-285d32f640ed",
        "papermill": {
          "duration": 0.159043,
          "end_time": "2023-09-02T01:35:37.125732",
          "exception": false,
          "start_time": "2023-09-02T01:35:36.966689",
          "status": "completed"
        },
        "tags": []
      },
      "outputs": [],
      "source": [
        "#selcting the specific columns# use df[['col1', 'col2', 'col3']] e.g. selsct Order Date, Product Date, and ship mode\n"
      ]
    },
    {
      "cell_type": "code",
      "execution_count": null,
      "id": "06b8ef8c",
      "metadata": {
        "colab": {
          "base_uri": "https://localhost:8080/",
          "height": 423
        },
        "execution": {
          "iopub.execute_input": "2023-09-02T01:35:37.188224Z",
          "iopub.status.busy": "2023-09-02T01:35:37.187477Z",
          "iopub.status.idle": "2023-09-02T01:35:37.392987Z",
          "shell.execute_reply": "2023-09-02T01:35:37.392092Z"
        },
        "id": "06b8ef8c",
        "outputId": "3a0add46-183f-4a24-88f7-70a1de155928",
        "papermill": {
          "duration": 0.242007,
          "end_time": "2023-09-02T01:35:37.395260",
          "exception": false,
          "start_time": "2023-09-02T01:35:37.153253",
          "status": "completed"
        },
        "tags": []
      },
      "outputs": [],
      "source": [
        "# we can use slicing as well e.g. df[df.columns[:5]]\n"
      ]
    },
    {
      "cell_type": "code",
      "execution_count": null,
      "id": "35d02622",
      "metadata": {
        "colab": {
          "base_uri": "https://localhost:8080/",
          "height": 652
        },
        "execution": {
          "iopub.execute_input": "2023-09-02T01:35:37.454391Z",
          "iopub.status.busy": "2023-09-02T01:35:37.453630Z",
          "iopub.status.idle": "2023-09-02T01:35:37.693639Z",
          "shell.execute_reply": "2023-09-02T01:35:37.692475Z"
        },
        "id": "35d02622",
        "outputId": "47bd1261-abb9-49df-8ec8-a9d693556546",
        "papermill": {
          "duration": 0.272486,
          "end_time": "2023-09-02T01:35:37.696476",
          "exception": false,
          "start_time": "2023-09-02T01:35:37.423990",
          "status": "completed"
        },
        "tags": []
      },
      "outputs": [],
      "source": [
        "#Using list comprehnsion e.g df[[c for c in df.columns]]\n",
        "df[[c for c in df.columns]]"
      ]
    },
    {
      "cell_type": "markdown",
      "id": "54bd0f38",
      "metadata": {
        "id": "54bd0f38",
        "papermill": {
          "duration": 0.032352,
          "end_time": "2023-09-02T01:35:37.758021",
          "exception": false,
          "start_time": "2023-09-02T01:35:37.725669",
          "status": "completed"
        },
        "tags": []
      },
      "source": [
        "## Select dtypes"
      ]
    },
    {
      "cell_type": "code",
      "execution_count": null,
      "id": "4fbdc806",
      "metadata": {
        "colab": {
          "base_uri": "https://localhost:8080/",
          "height": 423
        },
        "execution": {
          "iopub.execute_input": "2023-09-02T01:35:37.820959Z",
          "iopub.status.busy": "2023-09-02T01:35:37.820494Z",
          "iopub.status.idle": "2023-09-02T01:35:38.321077Z",
          "shell.execute_reply": "2023-09-02T01:35:38.319983Z"
        },
        "id": "4fbdc806",
        "outputId": "533ede52-1470-4d99-c621-700c7f12f96b",
        "papermill": {
          "duration": 0.536219,
          "end_time": "2023-09-02T01:35:38.324147",
          "exception": false,
          "start_time": "2023-09-02T01:35:37.787928",
          "status": "completed"
        },
        "tags": []
      },
      "outputs": [],
      "source": [
        "# Selecting the numerical variables use df.select_dtypes(), include what you want to select as an argument\n",
        "df.select_dtypes(include='int')# you can change int to object and rerun the code."
      ]
    },
    {
      "cell_type": "markdown",
      "id": "d520ef3b",
      "metadata": {
        "id": "d520ef3b",
        "papermill": {
          "duration": 0.02918,
          "end_time": "2023-09-02T01:35:38.382437",
          "exception": false,
          "start_time": "2023-09-02T01:35:38.353257",
          "status": "completed"
        },
        "tags": []
      },
      "source": [
        "## Select as series vs dataframe"
      ]
    },
    {
      "cell_type": "code",
      "execution_count": null,
      "id": "781023ad",
      "metadata": {
        "colab": {
          "base_uri": "https://localhost:8080/",
          "height": 204
        },
        "execution": {
          "iopub.execute_input": "2023-09-02T01:35:38.443689Z",
          "iopub.status.busy": "2023-09-02T01:35:38.442860Z",
          "iopub.status.idle": "2023-09-02T01:35:38.452532Z",
          "shell.execute_reply": "2023-09-02T01:35:38.451352Z"
        },
        "id": "781023ad",
        "outputId": "7c4c74c7-6670-494b-ddf1-1234e845e6e0",
        "papermill": {
          "duration": 0.043554,
          "end_time": "2023-09-02T01:35:38.455345",
          "exception": false,
          "start_time": "2023-09-02T01:35:38.411791",
          "status": "completed"
        },
        "tags": []
      },
      "outputs": [],
      "source": [
        "#checking the series, use df['Col name']\n",
        "\n"
      ]
    },
    {
      "cell_type": "code",
      "execution_count": null,
      "id": "75640e55",
      "metadata": {
        "colab": {
          "base_uri": "https://localhost:8080/",
          "height": 204
        },
        "execution": {
          "iopub.execute_input": "2023-09-02T01:35:38.515186Z",
          "iopub.status.busy": "2023-09-02T01:35:38.514486Z",
          "iopub.status.idle": "2023-09-02T01:35:38.582655Z",
          "shell.execute_reply": "2023-09-02T01:35:38.581720Z"
        },
        "id": "75640e55",
        "outputId": "45faaa63-35ca-4c8a-ffec-5b6b7ad08f5c",
        "papermill": {
          "duration": 0.101184,
          "end_time": "2023-09-02T01:35:38.585295",
          "exception": false,
          "start_time": "2023-09-02T01:35:38.484111",
          "status": "completed"
        },
        "tags": []
      },
      "outputs": [],
      "source": [
        "#making the above as a dataframe , use df[['col name']]\n"
      ]
    },
    {
      "cell_type": "markdown",
      "id": "707b736e",
      "metadata": {
        "id": "707b736e",
        "papermill": {
          "duration": 0.02922,
          "end_time": "2023-09-02T01:35:38.643676",
          "exception": false,
          "start_time": "2023-09-02T01:35:38.614456",
          "status": "completed"
        },
        "tags": []
      },
      "source": [
        "## loc and iloc\n",
        "\n",
        "We can use loc(variable location), and iloc(index location) to access the variables as well"
      ]
    },
    {
      "cell_type": "markdown",
      "id": "FF2OLe11CeDv",
      "metadata": {
        "id": "FF2OLe11CeDv"
      },
      "source": [
        "### iloc"
      ]
    },
    {
      "cell_type": "code",
      "execution_count": null,
      "id": "VRmTx-eSqhP3",
      "metadata": {
        "colab": {
          "base_uri": "https://localhost:8080/",
          "height": 279
        },
        "id": "VRmTx-eSqhP3",
        "outputId": "c7f3dc71-bea3-4d1c-f9c9-c8af3d14d163"
      },
      "outputs": [],
      "source": [
        "df.head(3)"
      ]
    },
    {
      "cell_type": "code",
      "execution_count": null,
      "id": "95914cc6",
      "metadata": {
        "colab": {
          "base_uri": "https://localhost:8080/"
        },
        "execution": {
          "iopub.execute_input": "2023-09-02T01:35:38.704085Z",
          "iopub.status.busy": "2023-09-02T01:35:38.703394Z",
          "iopub.status.idle": "2023-09-02T01:35:38.710117Z",
          "shell.execute_reply": "2023-09-02T01:35:38.708978Z"
        },
        "id": "95914cc6",
        "outputId": "da1a011d-a8bb-4844-db39-323f6f50aa40",
        "papermill": {
          "duration": 0.039653,
          "end_time": "2023-09-02T01:35:38.712487",
          "exception": false,
          "start_time": "2023-09-02T01:35:38.672834",
          "status": "completed"
        },
        "tags": []
      },
      "outputs": [
        {
          "data": {
            "text/plain": [
              "0.03"
            ]
          },
          "execution_count": 66,
          "metadata": {},
          "output_type": "execute_result"
        }
      ],
      "source": [
        "# getting the value using iloc e.g df.iloc[1, 1]\n",
        "df.iloc[2,2]\n"
      ]
    },
    {
      "cell_type": "code",
      "execution_count": null,
      "id": "95771ba9",
      "metadata": {
        "colab": {
          "base_uri": "https://localhost:8080/",
          "height": 206
        },
        "execution": {
          "iopub.execute_input": "2023-09-02T01:35:38.777534Z",
          "iopub.status.busy": "2023-09-02T01:35:38.777069Z",
          "iopub.status.idle": "2023-09-02T01:35:38.790821Z",
          "shell.execute_reply": "2023-09-02T01:35:38.789732Z"
        },
        "id": "95771ba9",
        "outputId": "42b3124b-7323-4e3e-f11e-29f66bc7cc53",
        "papermill": {
          "duration": 0.047776,
          "end_time": "2023-09-02T01:35:38.793254",
          "exception": false,
          "start_time": "2023-09-02T01:35:38.745478",
          "status": "completed"
        },
        "tags": []
      },
      "outputs": [],
      "source": [
        "#slicing e.g df.iloc[:5, :5]\n"
      ]
    },
    {
      "cell_type": "code",
      "execution_count": null,
      "id": "64acb251",
      "metadata": {
        "colab": {
          "base_uri": "https://localhost:8080/",
          "height": 182
        },
        "execution": {
          "iopub.execute_input": "2023-09-02T01:35:38.855604Z",
          "iopub.status.busy": "2023-09-02T01:35:38.855185Z",
          "iopub.status.idle": "2023-09-02T01:35:38.898257Z",
          "shell.execute_reply": "2023-09-02T01:35:38.896562Z"
        },
        "id": "64acb251",
        "outputId": "6901f3de-fd74-4816-f965-b9ee6c1b2305",
        "papermill": {
          "duration": 0.077293,
          "end_time": "2023-09-02T01:35:38.901268",
          "exception": false,
          "start_time": "2023-09-02T01:35:38.823975",
          "status": "completed"
        },
        "tags": []
      },
      "outputs": [],
      "source": [
        "#Getting specific row e.g df.iloc[5], we can present our result in dataframe formart as well\n"
      ]
    },
    {
      "cell_type": "code",
      "execution_count": null,
      "id": "9ef699ab",
      "metadata": {
        "execution": {
          "iopub.execute_input": "2023-09-02T01:35:38.964071Z",
          "iopub.status.busy": "2023-09-02T01:35:38.963621Z",
          "iopub.status.idle": "2023-09-02T01:35:38.972228Z",
          "shell.execute_reply": "2023-09-02T01:35:38.971357Z"
        },
        "id": "9ef699ab",
        "papermill": {
          "duration": 0.042905,
          "end_time": "2023-09-02T01:35:38.974496",
          "exception": false,
          "start_time": "2023-09-02T01:35:38.931591",
          "status": "completed"
        },
        "tags": []
      },
      "outputs": [],
      "source": [
        "#Checking the index 1 columns e.g df.iloc[:, 1]"
      ]
    },
    {
      "cell_type": "code",
      "execution_count": null,
      "id": "44c88dd2",
      "metadata": {
        "execution": {
          "iopub.execute_input": "2023-09-02T01:35:39.037658Z",
          "iopub.status.busy": "2023-09-02T01:35:39.037251Z",
          "iopub.status.idle": "2023-09-02T01:35:39.153659Z",
          "shell.execute_reply": "2023-09-02T01:35:39.152852Z"
        },
        "id": "44c88dd2",
        "papermill": {
          "duration": 0.150892,
          "end_time": "2023-09-02T01:35:39.155796",
          "exception": false,
          "start_time": "2023-09-02T01:35:39.004904",
          "status": "completed"
        },
        "tags": []
      },
      "outputs": [],
      "source": [
        "#getting index 1 and 2 columns, e.g  df.iloc[:, [1, 2]]"
      ]
    },
    {
      "cell_type": "markdown",
      "id": "hS8A7GVhCpsT",
      "metadata": {
        "id": "hS8A7GVhCpsT"
      },
      "source": [
        "Loc\n",
        "\n",
        "we use loc when we want to select the variable by the name"
      ]
    },
    {
      "cell_type": "code",
      "execution_count": null,
      "id": "8c1c358e",
      "metadata": {
        "colab": {
          "base_uri": "https://localhost:8080/",
          "height": 423
        },
        "execution": {
          "iopub.execute_input": "2023-09-02T01:35:39.219920Z",
          "iopub.status.busy": "2023-09-02T01:35:39.218807Z",
          "iopub.status.idle": "2023-09-02T01:35:39.337495Z",
          "shell.execute_reply": "2023-09-02T01:35:39.336301Z"
        },
        "id": "8c1c358e",
        "outputId": "0195fd3e-2391-46fc-b83e-c8a3f5277c15",
        "papermill": {
          "duration": 0.154896,
          "end_time": "2023-09-02T01:35:39.340968",
          "exception": false,
          "start_time": "2023-09-02T01:35:39.186072",
          "status": "completed"
        },
        "tags": []
      },
      "outputs": [],
      "source": [
        "#subsetting  2 columns df.loc[:, ['col1', 'col2']]\n",
        "df.loc[:, ['Discount', 'Sales']]"
      ]
    },
    {
      "cell_type": "markdown",
      "id": "0bcc0519",
      "metadata": {
        "id": "0bcc0519",
        "papermill": {
          "duration": 0.030182,
          "end_time": "2023-09-02T01:35:39.402651",
          "exception": false,
          "start_time": "2023-09-02T01:35:39.372469",
          "status": "completed"
        },
        "tags": []
      },
      "source": [
        "#### loc filter expressions\n",
        "\n",
        "we can use loc filter to get specific records"
      ]
    },
    {
      "cell_type": "code",
      "execution_count": null,
      "id": "0d4a3105",
      "metadata": {
        "colab": {
          "base_uri": "https://localhost:8080/",
          "height": 652
        },
        "execution": {
          "iopub.execute_input": "2023-09-02T01:35:39.466222Z",
          "iopub.status.busy": "2023-09-02T01:35:39.465555Z",
          "iopub.status.idle": "2023-09-02T01:35:39.891937Z",
          "shell.execute_reply": "2023-09-02T01:35:39.890850Z"
        },
        "id": "0d4a3105",
        "outputId": "b9cab124-2cd1-4e67-f74f-526973fd466e",
        "papermill": {
          "duration": 0.462031,
          "end_time": "2023-09-02T01:35:39.895442",
          "exception": false,
          "start_time": "2023-09-02T01:35:39.433411",
          "status": "completed"
        },
        "tags": []
      },
      "outputs": [],
      "source": [
        "#Get the records of a specific value e.g  df.loc[df['Region'] == 'West']\n",
        "df.loc[df['Region']=='West']"
      ]
    },
    {
      "cell_type": "code",
      "execution_count": null,
      "id": "6b2760a3",
      "metadata": {
        "colab": {
          "base_uri": "https://localhost:8080/",
          "height": 328
        },
        "execution": {
          "iopub.execute_input": "2023-09-02T01:35:39.960901Z",
          "iopub.status.busy": "2023-09-02T01:35:39.960264Z",
          "iopub.status.idle": "2023-09-02T01:35:40.350715Z",
          "shell.execute_reply": "2023-09-02T01:35:40.349629Z"
        },
        "id": "6b2760a3",
        "outputId": "0c3f959a-210e-4778-e693-c0bbbf60f617",
        "papermill": {
          "duration": 0.427658,
          "end_time": "2023-09-02T01:35:40.354273",
          "exception": false,
          "start_time": "2023-09-02T01:35:39.926615",
          "status": "completed"
        },
        "tags": []
      },
      "outputs": [],
      "source": [
        "#we can use loc to get records of more than one specific variables\n",
        "df.loc[(df['Product Category'] == 'Furniture') & (df['Order Date'] == '2010-07-07')]"
      ]
    },
    {
      "cell_type": "code",
      "execution_count": null,
      "id": "27052d4a",
      "metadata": {
        "colab": {
          "base_uri": "https://localhost:8080/",
          "height": 652
        },
        "execution": {
          "iopub.execute_input": "2023-09-02T01:35:40.421902Z",
          "iopub.status.busy": "2023-09-02T01:35:40.421514Z",
          "iopub.status.idle": "2023-09-02T01:35:43.011567Z",
          "shell.execute_reply": "2023-09-02T01:35:43.010439Z"
        },
        "id": "27052d4a",
        "outputId": "0a135bb8-4394-4db9-b9c5-5bf21383f041",
        "papermill": {
          "duration": 2.628019,
          "end_time": "2023-09-02T01:35:43.014553",
          "exception": false,
          "start_time": "2023-09-02T01:35:40.386534",
          "status": "completed"
        },
        "tags": []
      },
      "outputs": [],
      "source": [
        "#we can use tilde(~) to get the records of those not represented in the code\n",
        "df.loc[~((df['Product Category'] == 'Furniture') & (df['Order Date'] == '2010-07-07'))]"
      ]
    },
    {
      "cell_type": "markdown",
      "id": "7d38c82b",
      "metadata": {
        "id": "7d38c82b",
        "papermill": {
          "duration": 0.035259,
          "end_time": "2023-09-02T01:35:43.084946",
          "exception": false,
          "start_time": "2023-09-02T01:35:43.049687",
          "status": "completed"
        },
        "tags": []
      },
      "source": [
        "## query\n",
        "\n",
        "Query method is another way of getting specific records"
      ]
    },
    {
      "cell_type": "code",
      "execution_count": 30,
      "id": "e7c125a4",
      "metadata": {
        "colab": {
          "base_uri": "https://localhost:8080/",
          "height": 652
        },
        "execution": {
          "iopub.execute_input": "2023-09-02T01:35:43.156453Z",
          "iopub.status.busy": "2023-09-02T01:35:43.155773Z",
          "iopub.status.idle": "2023-09-02T01:35:43.383731Z",
          "shell.execute_reply": "2023-09-02T01:35:43.382568Z"
        },
        "id": "e7c125a4",
        "outputId": "546b462c-3af6-43be-b250-0f846531b016",
        "papermill": {
          "duration": 0.266388,
          "end_time": "2023-09-02T01:35:43.386410",
          "exception": false,
          "start_time": "2023-09-02T01:35:43.120022",
          "status": "completed"
        },
        "tags": []
      },
      "outputs": [],
      "source": [
        "#getting specific records e.g df.query('Sales >200 and Region == \"West\"')\n"
      ]
    },
    {
      "cell_type": "code",
      "execution_count": null,
      "id": "a77b776a",
      "metadata": {},
      "outputs": [],
      "source": [
        "df.query('Sales > @min_Sale and (Region == \"West\")')"
      ]
    },
    {
      "cell_type": "code",
      "execution_count": null,
      "id": "bfd0fbf5",
      "metadata": {
        "execution": {
          "iopub.execute_input": "2023-09-02T01:35:43.459620Z",
          "iopub.status.busy": "2023-09-02T01:35:43.458803Z",
          "iopub.status.idle": "2023-09-02T01:35:43.633145Z",
          "shell.execute_reply": "2023-09-02T01:35:43.631957Z"
        },
        "id": "bfd0fbf5",
        "papermill": {
          "duration": 0.214503,
          "end_time": "2023-09-02T01:35:43.636693",
          "exception": false,
          "start_time": "2023-09-02T01:35:43.422190",
          "status": "completed"
        },
        "tags": []
      },
      "outputs": [],
      "source": [
        "#Another different way of using query method\n",
        "#min_sale = 600\n",
        "#df.query('Sales > @min_Sale and (Region == \"West\")')\n",
        "#----------------------------------------------\n",
        "min_Sale = 600\n",
        "query_expression = 'Sales > {} and (Region == \"West\")'.format(min_Sale)\n",
        "df.query(query_expression)"
      ]
    },
    {
      "cell_type": "markdown",
      "id": "c7cdb301",
      "metadata": {
        "id": "c7cdb301",
        "papermill": {
          "duration": 0.035652,
          "end_time": "2023-09-02T01:35:43.709062",
          "exception": false,
          "start_time": "2023-09-02T01:35:43.673410",
          "status": "completed"
        },
        "tags": []
      },
      "source": [
        "## Summary Statistics\n",
        "\n",
        "This is when we want to infer or get more information on the variable performance"
      ]
    },
    {
      "cell_type": "code",
      "execution_count": null,
      "id": "d4281e0b",
      "metadata": {
        "colab": {
          "base_uri": "https://localhost:8080/"
        },
        "execution": {
          "iopub.execute_input": "2023-09-02T01:35:43.790293Z",
          "iopub.status.busy": "2023-09-02T01:35:43.789005Z",
          "iopub.status.idle": "2023-09-02T01:35:43.815333Z",
          "shell.execute_reply": "2023-09-02T01:35:43.814211Z"
        },
        "id": "d4281e0b",
        "outputId": "a0fc8f76-1dd9-42f2-e247-272e64afebbb",
        "papermill": {
          "duration": 0.072294,
          "end_time": "2023-09-02T01:35:43.817988",
          "exception": false,
          "start_time": "2023-09-02T01:35:43.745694",
          "status": "completed"
        },
        "tags": []
      },
      "outputs": [
        {
          "data": {
            "text/plain": [
              "1.32"
            ]
          },
          "execution_count": 84,
          "metadata": {},
          "output_type": "execute_result"
        }
      ],
      "source": [
        "#we can use min, max, mean, std, and quantile\n"
      ]
    },
    {
      "cell_type": "code",
      "execution_count": null,
      "id": "9J3OqKYiu97b",
      "metadata": {
        "colab": {
          "base_uri": "https://localhost:8080/"
        },
        "id": "9J3OqKYiu97b",
        "outputId": "35f4dedf-7c6f-4807-c49f-2a19531939ef"
      },
      "outputs": [
        {
          "data": {
            "text/plain": [
              "100119.16"
            ]
          },
          "execution_count": 85,
          "metadata": {},
          "output_type": "execute_result"
        }
      ],
      "source": [
        "#max"
      ]
    },
    {
      "cell_type": "code",
      "execution_count": null,
      "id": "GokHCqJYvB5O",
      "metadata": {
        "colab": {
          "base_uri": "https://localhost:8080/"
        },
        "id": "GokHCqJYvB5O",
        "outputId": "4c8fc4d3-003c-4e50-fb80-0a412a839faa"
      },
      "outputs": [],
      "source": [
        "#mean"
      ]
    },
    {
      "cell_type": "code",
      "execution_count": null,
      "id": "7tC9pfXrvS1j",
      "metadata": {
        "colab": {
          "base_uri": "https://localhost:8080/"
        },
        "id": "7tC9pfXrvS1j",
        "outputId": "555684df-8d92-4b2a-8993-edb97a818935"
      },
      "outputs": [],
      "source": [
        "#std"
      ]
    },
    {
      "cell_type": "code",
      "execution_count": null,
      "id": "s3DFu2LAvY-t",
      "metadata": {
        "colab": {
          "base_uri": "https://localhost:8080/"
        },
        "id": "s3DFu2LAvY-t",
        "outputId": "2d0bc260-65bc-4b30-ffa8-e33753efad0b"
      },
      "outputs": [],
      "source": [
        "#Quantile   df['Sales'].quantile(.25)"
      ]
    },
    {
      "cell_type": "markdown",
      "id": "7eb9fdb5",
      "metadata": {
        "id": "7eb9fdb5",
        "papermill": {
          "duration": 0.036953,
          "end_time": "2023-09-02T01:35:44.699970",
          "exception": false,
          "start_time": "2023-09-02T01:35:44.663017",
          "status": "completed"
        },
        "tags": []
      },
      "source": [
        "## agg\n",
        "\n",
        "This is used when we need to get summary statistics of more than 1 at ago."
      ]
    },
    {
      "cell_type": "code",
      "execution_count": null,
      "id": "8e5257ef",
      "metadata": {
        "colab": {
          "base_uri": "https://localhost:8080/",
          "height": 143
        },
        "execution": {
          "iopub.execute_input": "2023-09-02T01:35:44.777419Z",
          "iopub.status.busy": "2023-09-02T01:35:44.776995Z",
          "iopub.status.idle": "2023-09-02T01:35:45.121340Z",
          "shell.execute_reply": "2023-09-02T01:35:45.120242Z"
        },
        "id": "8e5257ef",
        "outputId": "7f09c051-befb-47ff-b953-261b6a017397",
        "papermill": {
          "duration": 0.386869,
          "end_time": "2023-09-02T01:35:45.123892",
          "exception": false,
          "start_time": "2023-09-02T01:35:44.737023",
          "status": "completed"
        },
        "tags": []
      },
      "outputs": [],
      "source": [
        "# Getting  min, mean, max of 3 variables('Sales','Discount', 'Profit'), use  df[['col1','col2', 'col3']].agg(['mean', 'min', 'max'])\n"
      ]
    },
    {
      "cell_type": "code",
      "execution_count": null,
      "id": "3f49ea05",
      "metadata": {
        "colab": {
          "base_uri": "https://localhost:8080/",
          "height": 143
        },
        "execution": {
          "iopub.execute_input": "2023-09-02T01:35:45.200093Z",
          "iopub.status.busy": "2023-09-02T01:35:45.199730Z",
          "iopub.status.idle": "2023-09-02T01:35:45.385632Z",
          "shell.execute_reply": "2023-09-02T01:35:45.384336Z"
        },
        "id": "3f49ea05",
        "outputId": "9fb1c886-03dd-4235-aeb0-7110facd7767",
        "papermill": {
          "duration": 0.227279,
          "end_time": "2023-09-02T01:35:45.388452",
          "exception": false,
          "start_time": "2023-09-02T01:35:45.161173",
          "status": "completed"
        },
        "tags": []
      },
      "outputs": [],
      "source": [
        "#another way of doing the above\n",
        "\n",
        "df[['Sales','Discount', 'Profit']].agg(\n",
        "    {\n",
        "        'Sales': ['min', 'max'],\n",
        "        'Discount': ['mean'],\n",
        "        'Profit': ['min', 'max']\n",
        "    }\n",
        ")\n"
      ]
    },
    {
      "cell_type": "markdown",
      "id": "ee863da9",
      "metadata": {
        "id": "ee863da9",
        "papermill": {
          "duration": 0.038667,
          "end_time": "2023-09-02T01:35:45.465812",
          "exception": false,
          "start_time": "2023-09-02T01:35:45.427145",
          "status": "completed"
        },
        "tags": []
      },
      "source": [
        "## Summarize categoricals\n",
        "\n",
        "we use different way to categorize categorical variables"
      ]
    },
    {
      "cell_type": "code",
      "execution_count": null,
      "id": "9cf87801",
      "metadata": {
        "colab": {
          "base_uri": "https://localhost:8080/"
        },
        "execution": {
          "iopub.execute_input": "2023-09-02T01:35:45.543906Z",
          "iopub.status.busy": "2023-09-02T01:35:45.542851Z",
          "iopub.status.idle": "2023-09-02T01:35:45.865946Z",
          "shell.execute_reply": "2023-09-02T01:35:45.864957Z"
        },
        "id": "9cf87801",
        "outputId": "e29ccf89-afb5-4ae7-cff8-57e52c5ca08c",
        "papermill": {
          "duration": 0.364979,
          "end_time": "2023-09-02T01:35:45.868900",
          "exception": false,
          "start_time": "2023-09-02T01:35:45.503921",
          "status": "completed"
        },
        "tags": []
      },
      "outputs": [],
      "source": [
        "#use unique to see the unique values in the variable, use  df['col'].unique()\n",
        "df['Region'].unique()"
      ]
    },
    {
      "cell_type": "code",
      "execution_count": null,
      "id": "e843c0c5",
      "metadata": {
        "colab": {
          "base_uri": "https://localhost:8080/"
        },
        "execution": {
          "iopub.execute_input": "2023-09-02T01:35:45.946878Z",
          "iopub.status.busy": "2023-09-02T01:35:45.946498Z",
          "iopub.status.idle": "2023-09-02T01:35:46.265983Z",
          "shell.execute_reply": "2023-09-02T01:35:46.264460Z"
        },
        "id": "e843c0c5",
        "outputId": "88067bb1-c1ca-45eb-cef1-131abfd331b5",
        "papermill": {
          "duration": 0.361957,
          "end_time": "2023-09-02T01:35:46.268670",
          "exception": false,
          "start_time": "2023-09-02T01:35:45.906713",
          "status": "completed"
        },
        "tags": []
      },
      "outputs": [],
      "source": [
        "#nunique is used to get the number, use  df['col'].nunique()\n",
        "df['Region'].nunique()"
      ]
    },
    {
      "cell_type": "code",
      "execution_count": null,
      "id": "f0dbd434",
      "metadata": {
        "colab": {
          "base_uri": "https://localhost:8080/"
        },
        "execution": {
          "iopub.execute_input": "2023-09-02T01:35:46.348526Z",
          "iopub.status.busy": "2023-09-02T01:35:46.347767Z",
          "iopub.status.idle": "2023-09-02T01:35:46.569888Z",
          "shell.execute_reply": "2023-09-02T01:35:46.568817Z"
        },
        "id": "f0dbd434",
        "outputId": "abcbef72-1b83-4528-f8e4-5c4175e5f81b",
        "papermill": {
          "duration": 0.264849,
          "end_time": "2023-09-02T01:35:46.572398",
          "exception": false,
          "start_time": "2023-09-02T01:35:46.307549",
          "status": "completed"
        },
        "tags": []
      },
      "outputs": [],
      "source": [
        "#Value count is used to get the number of occurances use df['col'].value_counts()\n",
        "df[['Product Category']].value_counts()"
      ]
    },
    {
      "cell_type": "code",
      "execution_count": null,
      "id": "b35ca659",
      "metadata": {
        "colab": {
          "base_uri": "https://localhost:8080/"
        },
        "execution": {
          "iopub.execute_input": "2023-09-02T01:35:46.653139Z",
          "iopub.status.busy": "2023-09-02T01:35:46.652704Z",
          "iopub.status.idle": "2023-09-02T01:35:47.680420Z",
          "shell.execute_reply": "2023-09-02T01:35:47.679123Z"
        },
        "id": "b35ca659",
        "outputId": "c4f68baa-f15f-4344-c627-3a1a18af3a3d",
        "papermill": {
          "duration": 1.07149,
          "end_time": "2023-09-02T01:35:47.683759",
          "exception": false,
          "start_time": "2023-09-02T01:35:46.612269",
          "status": "completed"
        },
        "tags": []
      },
      "outputs": [],
      "source": [
        "# valuse counts for 2 variable, return dataframe  df[['col1', 'col2']].value_counts()\n",
        "df[['Product Category','Region']].value_counts()"
      ]
    },
    {
      "cell_type": "code",
      "execution_count": null,
      "id": "97ff99c4",
      "metadata": {
        "colab": {
          "base_uri": "https://localhost:8080/",
          "height": 425
        },
        "execution": {
          "iopub.execute_input": "2023-09-02T01:35:47.762638Z",
          "iopub.status.busy": "2023-09-02T01:35:47.761619Z",
          "iopub.status.idle": "2023-09-02T01:35:48.729964Z",
          "shell.execute_reply": "2023-09-02T01:35:48.728768Z"
        },
        "id": "97ff99c4",
        "outputId": "d22bfdba-3666-42a6-8994-829df34e99e2",
        "papermill": {
          "duration": 1.010186,
          "end_time": "2023-09-02T01:35:48.732567",
          "exception": false,
          "start_time": "2023-09-02T01:35:47.722381",
          "status": "completed"
        },
        "tags": []
      },
      "outputs": [],
      "source": [
        "# we use reset index so that the result starts from index zero use df[['col1', 'col2']].value_counts().reset_index()\n"
      ]
    },
    {
      "cell_type": "markdown",
      "id": "5b83a2ff",
      "metadata": {
        "id": "5b83a2ff",
        "papermill": {
          "duration": 0.046064,
          "end_time": "2023-09-02T01:35:48.819466",
          "exception": false,
          "start_time": "2023-09-02T01:35:48.773402",
          "status": "completed"
        },
        "tags": []
      },
      "source": [
        "## shift, cumsum"
      ]
    },
    {
      "cell_type": "code",
      "execution_count": null,
      "id": "8qPd_n3b0Fho",
      "metadata": {
        "colab": {
          "base_uri": "https://localhost:8080/",
          "height": 206
        },
        "id": "8qPd_n3b0Fho",
        "outputId": "5635d004-40df-4f6a-fe8a-007ad02d6a21"
      },
      "outputs": [],
      "source": [
        "#cumsum\n"
      ]
    },
    {
      "cell_type": "code",
      "execution_count": null,
      "id": "df320bb6",
      "metadata": {
        "colab": {
          "base_uri": "https://localhost:8080/",
          "height": 423
        },
        "execution": {
          "iopub.execute_input": "2023-09-02T01:35:50.533112Z",
          "iopub.status.busy": "2023-09-02T01:35:50.532653Z",
          "iopub.status.idle": "2023-09-02T01:35:50.567101Z",
          "shell.execute_reply": "2023-09-02T01:35:50.565918Z"
        },
        "id": "df320bb6",
        "outputId": "1dfe0e7c-e198-48b2-8740-ceeee212010b",
        "papermill": {
          "duration": 0.07752,
          "end_time": "2023-09-02T01:35:50.569984",
          "exception": false,
          "start_time": "2023-09-02T01:35:50.492464",
          "status": "completed"
        },
        "tags": []
      },
      "outputs": [],
      "source": [
        "#shift is commonly used in time series , use df[['col']].shift(1)\n"
      ]
    },
    {
      "cell_type": "code",
      "execution_count": null,
      "id": "78ae6f91",
      "metadata": {
        "colab": {
          "base_uri": "https://localhost:8080/",
          "height": 423
        },
        "execution": {
          "iopub.execute_input": "2023-09-02T01:35:50.651148Z",
          "iopub.status.busy": "2023-09-02T01:35:50.650282Z",
          "iopub.status.idle": "2023-09-02T01:35:50.684395Z",
          "shell.execute_reply": "2023-09-02T01:35:50.683272Z"
        },
        "id": "78ae6f91",
        "outputId": "197827d3-59f3-4d89-da84-114ace050ab2",
        "papermill": {
          "duration": 0.077099,
          "end_time": "2023-09-02T01:35:50.686586",
          "exception": false,
          "start_time": "2023-09-02T01:35:50.609487",
          "status": "completed"
        },
        "tags": []
      },
      "outputs": [],
      "source": [
        "#shift last value df[['col']].shift(-1)\n"
      ]
    },
    {
      "cell_type": "code",
      "execution_count": null,
      "id": "1f980214",
      "metadata": {
        "colab": {
          "base_uri": "https://localhost:8080/",
          "height": 423
        },
        "execution": {
          "iopub.execute_input": "2023-09-02T01:35:50.768269Z",
          "iopub.status.busy": "2023-09-02T01:35:50.767876Z",
          "iopub.status.idle": "2023-09-02T01:35:50.793589Z",
          "shell.execute_reply": "2023-09-02T01:35:50.792587Z"
        },
        "id": "1f980214",
        "outputId": "45d5efb4-b044-44b8-8c6a-c48aa89a61ca",
        "papermill": {
          "duration": 0.06967,
          "end_time": "2023-09-02T01:35:50.796119",
          "exception": false,
          "start_time": "2023-09-02T01:35:50.726449",
          "status": "completed"
        },
        "tags": []
      },
      "outputs": [],
      "source": [
        "#fill up the shitfed value, use df[['col']].shift(3, fill_value=100)\n",
        "df[['Sales']].shift(1, fill_value= 00)"
      ]
    },
    {
      "cell_type": "code",
      "execution_count": null,
      "id": "9237f160",
      "metadata": {
        "colab": {
          "base_uri": "https://localhost:8080/",
          "height": 423
        },
        "execution": {
          "iopub.execute_input": "2023-09-02T01:35:50.878753Z",
          "iopub.status.busy": "2023-09-02T01:35:50.878359Z",
          "iopub.status.idle": "2023-09-02T01:35:50.924809Z",
          "shell.execute_reply": "2023-09-02T01:35:50.923696Z"
        },
        "id": "9237f160",
        "outputId": "13c484aa-51e9-4cb0-f5cc-694c0d81d4b3",
        "papermill": {
          "duration": 0.09063,
          "end_time": "2023-09-02T01:35:50.927286",
          "exception": false,
          "start_time": "2023-09-02T01:35:50.836656",
          "status": "completed"
        },
        "tags": []
      },
      "outputs": [],
      "source": [
        "#summing up the sum values, use df[['col']].cumsum()\n",
        "df[['Sales']].cumsum()"
      ]
    },
    {
      "cell_type": "code",
      "execution_count": null,
      "id": "7a2d2ad2",
      "metadata": {
        "execution": {
          "iopub.execute_input": "2023-09-02T01:35:51.009341Z",
          "iopub.status.busy": "2023-09-02T01:35:51.008921Z",
          "iopub.status.idle": "2023-09-02T01:35:51.058292Z",
          "shell.execute_reply": "2023-09-02T01:35:51.056914Z"
        },
        "id": "7a2d2ad2",
        "papermill": {
          "duration": 0.093226,
          "end_time": "2023-09-02T01:35:51.060764",
          "exception": false,
          "start_time": "2023-09-02T01:35:50.967538",
          "status": "completed"
        },
        "tags": []
      },
      "outputs": [],
      "source": [
        "#we can also do cummax, and cummin\n"
      ]
    },
    {
      "cell_type": "markdown",
      "id": "38cf91c9",
      "metadata": {
        "id": "38cf91c9",
        "papermill": {
          "duration": 0.040098,
          "end_time": "2023-09-02T01:35:51.275167",
          "exception": false,
          "start_time": "2023-09-02T01:35:51.235069",
          "status": "completed"
        },
        "tags": []
      },
      "source": [
        "## Rolling methods"
      ]
    },
    {
      "cell_type": "code",
      "execution_count": null,
      "id": "c367b372",
      "metadata": {
        "colab": {
          "base_uri": "https://localhost:8080/",
          "height": 423
        },
        "execution": {
          "iopub.execute_input": "2023-09-02T01:35:51.361148Z",
          "iopub.status.busy": "2023-09-02T01:35:51.360453Z",
          "iopub.status.idle": "2023-09-02T01:35:51.536778Z",
          "shell.execute_reply": "2023-09-02T01:35:51.535587Z"
        },
        "id": "c367b372",
        "outputId": "fff5757a-6c71-47cd-99ac-2144ee11aae0",
        "papermill": {
          "duration": 0.221543,
          "end_time": "2023-09-02T01:35:51.539514",
          "exception": false,
          "start_time": "2023-09-02T01:35:51.317971",
          "status": "completed"
        },
        "tags": []
      },
      "outputs": [],
      "source": [
        "#using Rolling, usse df[['col']].rolling(window=5).mean()\n",
        "df[['Sales']].rolling(window=3).mean()"
      ]
    },
    {
      "cell_type": "markdown",
      "id": "9cac3eff",
      "metadata": {
        "id": "9cac3eff",
        "papermill": {
          "duration": 0.041073,
          "end_time": "2023-09-02T01:35:51.852812",
          "exception": false,
          "start_time": "2023-09-02T01:35:51.811739",
          "status": "completed"
        },
        "tags": []
      },
      "source": [
        "## Groupby\n",
        "\n",
        "This is used when we want to summarize categorical features based on a certain numerical variable"
      ]
    },
    {
      "cell_type": "code",
      "execution_count": null,
      "id": "d9ad7d8c",
      "metadata": {
        "colab": {
          "base_uri": "https://localhost:8080/",
          "height": 206
        },
        "execution": {
          "iopub.execute_input": "2023-09-02T01:35:51.935188Z",
          "iopub.status.busy": "2023-09-02T01:35:51.934539Z",
          "iopub.status.idle": "2023-09-02T01:35:52.337005Z",
          "shell.execute_reply": "2023-09-02T01:35:52.335612Z"
        },
        "id": "d9ad7d8c",
        "outputId": "ac8612e5-e4fb-4d0e-8d0d-4d1106e3dd09",
        "papermill": {
          "duration": 0.44718,
          "end_time": "2023-09-02T01:35:52.340358",
          "exception": false,
          "start_time": "2023-09-02T01:35:51.893178",
          "status": "completed"
        },
        "tags": []
      },
      "outputs": [],
      "source": [
        "# use groupby, use df.groupby('cat_col')[['num_coll']].mean(), e.g region and sales\n"
      ]
    },
    {
      "cell_type": "code",
      "execution_count": null,
      "id": "b2846c6c",
      "metadata": {
        "colab": {
          "base_uri": "https://localhost:8080/",
          "height": 237
        },
        "execution": {
          "iopub.execute_input": "2023-09-02T01:35:52.424289Z",
          "iopub.status.busy": "2023-09-02T01:35:52.423909Z",
          "iopub.status.idle": "2023-09-02T01:35:52.937733Z",
          "shell.execute_reply": "2023-09-02T01:35:52.936378Z"
        },
        "id": "b2846c6c",
        "outputId": "95d13916-0095-4f38-e1f3-c4691c154b02",
        "papermill": {
          "duration": 0.559468,
          "end_time": "2023-09-02T01:35:52.940950",
          "exception": false,
          "start_time": "2023-09-02T01:35:52.381482",
          "status": "completed"
        },
        "tags": []
      },
      "outputs": [],
      "source": [
        "#Using agg() together with groupby e.g df.groupby('cta_col')[['num_col']].agg(['mean', 'min', 'max'])\n"
      ]
    },
    {
      "cell_type": "code",
      "execution_count": null,
      "id": "71bc629e",
      "metadata": {
        "colab": {
          "base_uri": "https://localhost:8080/",
          "height": 237
        },
        "execution": {
          "iopub.execute_input": "2023-09-02T01:35:53.025844Z",
          "iopub.status.busy": "2023-09-02T01:35:53.025284Z",
          "iopub.status.idle": "2023-09-02T01:35:53.622923Z",
          "shell.execute_reply": "2023-09-02T01:35:53.621747Z"
        },
        "id": "71bc629e",
        "outputId": "228fd096-39a8-499b-e2dd-e21ab3712f84",
        "papermill": {
          "duration": 0.6435,
          "end_time": "2023-09-02T01:35:53.625852",
          "exception": false,
          "start_time": "2023-09-02T01:35:52.982352",
          "status": "completed"
        },
        "tags": []
      },
      "outputs": [],
      "source": [
        "#combining two numerical columns\n"
      ]
    },
    {
      "cell_type": "markdown",
      "id": "3162c781",
      "metadata": {
        "id": "3162c781",
        "papermill": {
          "duration": 0.041477,
          "end_time": "2023-09-02T01:35:54.115817",
          "exception": false,
          "start_time": "2023-09-02T01:35:54.074340",
          "status": "completed"
        },
        "tags": []
      },
      "source": [
        "## New columns"
      ]
    },
    {
      "cell_type": "code",
      "execution_count": null,
      "id": "vok4m0343C6T",
      "metadata": {
        "colab": {
          "base_uri": "https://localhost:8080/",
          "height": 469
        },
        "id": "vok4m0343C6T",
        "outputId": "d2159246-4af0-4699-ee45-970bcbd12815"
      },
      "outputs": [],
      "source": [
        "df.head()"
      ]
    },
    {
      "cell_type": "code",
      "execution_count": null,
      "id": "439f68be",
      "metadata": {
        "execution": {
          "iopub.execute_input": "2023-09-02T01:35:54.201756Z",
          "iopub.status.busy": "2023-09-02T01:35:54.201313Z",
          "iopub.status.idle": "2023-09-02T01:35:54.240838Z",
          "shell.execute_reply": "2023-09-02T01:35:54.239586Z"
        },
        "id": "439f68be",
        "papermill": {
          "duration": 0.086081,
          "end_time": "2023-09-02T01:35:54.243561",
          "exception": false,
          "start_time": "2023-09-02T01:35:54.157480",
          "status": "completed"
        },
        "tags": []
      },
      "outputs": [],
      "source": [
        "#ctreating a new column,  e.g df['new_col'] = df['coln'] - df['coln2']\n"
      ]
    },
    {
      "cell_type": "code",
      "execution_count": null,
      "id": "VpE4fT1vYZFg",
      "metadata": {
        "id": "VpE4fT1vYZFg"
      },
      "outputs": [],
      "source": [
        "#Another way of creating new column using assign method, use df=df.assign(colname=expression)\n",
        "#creating new column using .assign()\n",
        "#df=df.assign(col_2=df[\"Profit\"]/0.3)\n"
      ]
    },
    {
      "cell_type": "markdown",
      "id": "3122019f",
      "metadata": {
        "id": "3122019f",
        "papermill": {
          "duration": 0.043164,
          "end_time": "2023-09-02T01:35:57.976120",
          "exception": false,
          "start_time": "2023-09-02T01:35:57.932956",
          "status": "completed"
        },
        "tags": []
      },
      "source": [
        "## Sorting\n",
        "\n",
        "This is a way of ordering the values either in ascending or descending order"
      ]
    },
    {
      "cell_type": "code",
      "execution_count": null,
      "id": "031aafb3",
      "metadata": {
        "colab": {
          "base_uri": "https://localhost:8080/",
          "height": 947
        },
        "execution": {
          "iopub.execute_input": "2023-09-02T01:35:58.064643Z",
          "iopub.status.busy": "2023-09-02T01:35:58.063827Z",
          "iopub.status.idle": "2023-09-02T01:36:13.796673Z",
          "shell.execute_reply": "2023-09-02T01:36:13.795484Z"
        },
        "id": "031aafb3",
        "outputId": "0eeb1503-a76a-4ba1-8bf3-a0100184b235",
        "papermill": {
          "duration": 15.780829,
          "end_time": "2023-09-02T01:36:13.799615",
          "exception": false,
          "start_time": "2023-09-02T01:35:58.018786",
          "status": "completed"
        },
        "tags": []
      },
      "outputs": [],
      "source": [
        "#sort values use  df.sort_values('col'), we can apply argument ascending= False to get the result in descending order\n",
        "#df.sort_values('Region', ascending=False)"
      ]
    },
    {
      "cell_type": "code",
      "execution_count": null,
      "id": "7740ced4",
      "metadata": {
        "colab": {
          "base_uri": "https://localhost:8080/",
          "height": 423
        },
        "execution": {
          "iopub.execute_input": "2023-09-02T01:36:15.911597Z",
          "iopub.status.busy": "2023-09-02T01:36:15.911177Z",
          "iopub.status.idle": "2023-09-02T01:36:17.728830Z",
          "shell.execute_reply": "2023-09-02T01:36:17.727981Z"
        },
        "id": "7740ced4",
        "outputId": "93f70ca8-e762-4cf0-be81-655ca5ced9a4",
        "papermill": {
          "duration": 1.868006,
          "end_time": "2023-09-02T01:36:17.731000",
          "exception": false,
          "start_time": "2023-09-02T01:36:15.862994",
          "status": "completed"
        },
        "tags": []
      },
      "outputs": [],
      "source": [
        "#resetting the index, use df[['col1', 'col2', 'col3']].sort_values('col3', ascending=False).reset_index(drop=True)\n",
        "#df[['Region',\"Product Name\",\"Sales\"]].sort_values(\"Sales\", ascending=False)"
      ]
    },
    {
      "cell_type": "markdown",
      "id": "2a4778c9",
      "metadata": {
        "id": "2a4778c9",
        "papermill": {
          "duration": 0.04411,
          "end_time": "2023-09-02T01:36:18.534654",
          "exception": false,
          "start_time": "2023-09-02T01:36:18.490544",
          "status": "completed"
        },
        "tags": []
      },
      "source": [
        "## Missing data\n",
        "\n",
        "This is how we can check and fix null values"
      ]
    },
    {
      "cell_type": "code",
      "execution_count": null,
      "id": "c2f9c1dc",
      "metadata": {
        "colab": {
          "base_uri": "https://localhost:8080/"
        },
        "execution": {
          "iopub.execute_input": "2023-09-02T01:36:18.625756Z",
          "iopub.status.busy": "2023-09-02T01:36:18.625385Z",
          "iopub.status.idle": "2023-09-02T01:36:18.892864Z",
          "shell.execute_reply": "2023-09-02T01:36:18.891579Z"
        },
        "id": "c2f9c1dc",
        "outputId": "106900d0-aca2-4a75-be57-3d8511a9d455",
        "papermill": {
          "duration": 0.316463,
          "end_time": "2023-09-02T01:36:18.895637",
          "exception": false,
          "start_time": "2023-09-02T01:36:18.579174",
          "status": "completed"
        },
        "tags": []
      },
      "outputs": [],
      "source": [
        "#checking missing values, use df.isna(), add .sum()a better result\n"
      ]
    },
    {
      "cell_type": "code",
      "execution_count": null,
      "id": "c27cf419",
      "metadata": {
        "colab": {
          "base_uri": "https://localhost:8080/"
        },
        "execution": {
          "iopub.execute_input": "2023-09-02T01:36:19.353908Z",
          "iopub.status.busy": "2023-09-02T01:36:19.353533Z",
          "iopub.status.idle": "2023-09-02T01:36:19.708295Z",
          "shell.execute_reply": "2023-09-02T01:36:19.707196Z"
        },
        "id": "c27cf419",
        "outputId": "ad47efaf-6c5f-40c0-91c9-b00981e30e51",
        "papermill": {
          "duration": 0.404263,
          "end_time": "2023-09-02T01:36:19.710818",
          "exception": false,
          "start_time": "2023-09-02T01:36:19.306555",
          "status": "completed"
        },
        "tags": []
      },
      "outputs": [],
      "source": [
        "#fixing the null values  by dropping the rows df.dropna(subset=['col with missing value']), or just df.dropna() for entire dataframe\n"
      ]
    },
    {
      "cell_type": "code",
      "execution_count": null,
      "id": "9df5bfb6",
      "metadata": {
        "execution": {
          "iopub.execute_input": "2023-09-02T01:36:19.807008Z",
          "iopub.status.busy": "2023-09-02T01:36:19.806558Z",
          "iopub.status.idle": "2023-09-02T01:36:20.215751Z",
          "shell.execute_reply": "2023-09-02T01:36:20.214414Z"
        },
        "id": "9df5bfb6",
        "papermill": {
          "duration": 0.461178,
          "end_time": "2023-09-02T01:36:20.218378",
          "exception": false,
          "start_time": "2023-09-02T01:36:19.757200",
          "status": "completed"
        },
        "tags": []
      },
      "outputs": [],
      "source": [
        "#filling up the missing value with specific value, use df[['col1', 'col2', 'col3']].fillna(0)\n"
      ]
    },
    {
      "cell_type": "code",
      "execution_count": null,
      "id": "4d8936bf",
      "metadata": {
        "execution": {
          "iopub.execute_input": "2023-09-02T01:36:20.314182Z",
          "iopub.status.busy": "2023-09-02T01:36:20.313307Z",
          "iopub.status.idle": "2023-09-02T01:36:20.357945Z",
          "shell.execute_reply": "2023-09-02T01:36:20.357047Z"
        },
        "id": "4d8936bf",
        "papermill": {
          "duration": 0.094283,
          "end_time": "2023-09-02T01:36:20.360331",
          "exception": false,
          "start_time": "2023-09-02T01:36:20.266048",
          "status": "completed"
        },
        "tags": []
      },
      "outputs": [],
      "source": [
        "#Filling with the mean of the column, use df['col1'].fillna(df['col1'].mean())\n"
      ]
    },
    {
      "cell_type": "markdown",
      "id": "9be16aa5",
      "metadata": {
        "id": "9be16aa5",
        "papermill": {
          "duration": 0.044583,
          "end_time": "2023-09-02T01:36:20.450752",
          "exception": false,
          "start_time": "2023-09-02T01:36:20.406169",
          "status": "completed"
        },
        "tags": []
      },
      "source": [
        "## Concat\n",
        "\n",
        "concat is used when all the variables as similar"
      ]
    },
    {
      "cell_type": "code",
      "execution_count": null,
      "id": "23eaf916",
      "metadata": {
        "execution": {
          "iopub.execute_input": "2023-09-02T01:36:20.549846Z",
          "iopub.status.busy": "2023-09-02T01:36:20.548972Z",
          "iopub.status.idle": "2023-09-02T01:36:22.504723Z",
          "shell.execute_reply": "2023-09-02T01:36:22.503603Z"
        },
        "id": "23eaf916",
        "papermill": {
          "duration": 2.00788,
          "end_time": "2023-09-02T01:36:22.507680",
          "exception": false,
          "start_time": "2023-09-02T01:36:20.499800",
          "status": "completed"
        },
        "tags": []
      },
      "outputs": [],
      "source": [
        "# create 2 dataframe\n",
        "#df1 = df.query('Region == \"West\"').copy()\n",
        "#df2 = df.query('Region == \"East\"').copy()\n"
      ]
    },
    {
      "cell_type": "code",
      "execution_count": null,
      "id": "6c934970",
      "metadata": {
        "colab": {
          "base_uri": "https://localhost:8080/",
          "height": 469
        },
        "execution": {
          "iopub.execute_input": "2023-09-02T01:36:22.603332Z",
          "iopub.status.busy": "2023-09-02T01:36:22.602930Z",
          "iopub.status.idle": "2023-09-02T01:36:23.577136Z",
          "shell.execute_reply": "2023-09-02T01:36:23.575784Z"
        },
        "id": "6c934970",
        "outputId": "0283f665-b332-42b7-9c71-cf035fb9c7bc",
        "papermill": {
          "duration": 1.024735,
          "end_time": "2023-09-02T01:36:23.579972",
          "exception": false,
          "start_time": "2023-09-02T01:36:22.555237",
          "status": "completed"
        },
        "tags": []
      },
      "outputs": [],
      "source": [
        "#concat, use pd.concat([df1, df2])\n"
      ]
    },
    {
      "cell_type": "code",
      "execution_count": null,
      "id": "892c614a",
      "metadata": {
        "execution": {
          "iopub.execute_input": "2023-09-02T01:36:24.813739Z",
          "iopub.status.busy": "2023-09-02T01:36:24.812872Z",
          "iopub.status.idle": "2023-09-02T01:36:25.585217Z",
          "shell.execute_reply": "2023-09-02T01:36:25.584151Z"
        },
        "id": "892c614a",
        "papermill": {
          "duration": 0.825034,
          "end_time": "2023-09-02T01:36:25.587986",
          "exception": false,
          "start_time": "2023-09-02T01:36:24.762952",
          "status": "completed"
        },
        "tags": []
      },
      "outputs": [],
      "source": [
        "#we can resset the index then concat as well\n",
        "#df1 = df1.reset_index(drop=True)\n",
        "#df2 = df2.reset_index(drop=True)"
      ]
    },
    {
      "cell_type": "code",
      "execution_count": null,
      "id": "9362d441",
      "metadata": {
        "colab": {
          "base_uri": "https://localhost:8080/",
          "height": 573
        },
        "execution": {
          "iopub.execute_input": "2023-09-02T01:36:25.686266Z",
          "iopub.status.busy": "2023-09-02T01:36:25.685526Z",
          "iopub.status.idle": "2023-09-02T01:36:26.484458Z",
          "shell.execute_reply": "2023-09-02T01:36:26.482845Z"
        },
        "id": "9362d441",
        "outputId": "e2e8f3bd-54f4-4ab1-c8f0-f62748bb9dce",
        "papermill": {
          "duration": 0.851786,
          "end_time": "2023-09-02T01:36:26.487847",
          "exception": false,
          "start_time": "2023-09-02T01:36:25.636061",
          "status": "completed"
        },
        "tags": []
      },
      "outputs": [],
      "source": [
        "#concat, use pd.concat([df1, df2], axis=1)\n"
      ]
    },
    {
      "cell_type": "markdown",
      "id": "3ee8ccd0",
      "metadata": {
        "id": "3ee8ccd0",
        "papermill": {
          "duration": 0.048387,
          "end_time": "2023-09-02T01:36:26.690256",
          "exception": false,
          "start_time": "2023-09-02T01:36:26.641869",
          "status": "completed"
        },
        "tags": []
      },
      "source": [
        "## Merge dataframes"
      ]
    },
    {
      "cell_type": "code",
      "execution_count": null,
      "id": "c14a5ad0",
      "metadata": {
        "execution": {
          "iopub.execute_input": "2023-09-02T01:36:26.787580Z",
          "iopub.status.busy": "2023-09-02T01:36:26.787135Z",
          "iopub.status.idle": "2023-09-02T01:36:28.265648Z",
          "shell.execute_reply": "2023-09-02T01:36:28.264438Z"
        },
        "id": "c14a5ad0",
        "papermill": {
          "duration": 1.531009,
          "end_time": "2023-09-02T01:36:28.268636",
          "exception": false,
          "start_time": "2023-09-02T01:36:26.737627",
          "status": "completed"
        },
        "tags": []
      },
      "outputs": [],
      "source": [
        "#create 2 dataframe\n",
        "#df1 = df.groupby(['Region', 'Order Date'])[['Sales']].mean().reset_index()\n",
        "#df2 = df.groupby(['Region', 'Order Date'])[['Profit']].mean().reset_index()"
      ]
    },
    {
      "cell_type": "code",
      "execution_count": null,
      "id": "1bbb938f",
      "metadata": {
        "colab": {
          "base_uri": "https://localhost:8080/",
          "height": 423
        },
        "execution": {
          "iopub.execute_input": "2023-09-02T01:36:28.480131Z",
          "iopub.status.busy": "2023-09-02T01:36:28.479760Z",
          "iopub.status.idle": "2023-09-02T01:36:28.504036Z",
          "shell.execute_reply": "2023-09-02T01:36:28.503123Z"
        },
        "id": "1bbb938f",
        "outputId": "b365c6f1-2da4-41b2-bbf5-0154f9f6c80e",
        "papermill": {
          "duration": 0.075403,
          "end_time": "2023-09-02T01:36:28.506482",
          "exception": false,
          "start_time": "2023-09-02T01:36:28.431079",
          "status": "completed"
        },
        "tags": []
      },
      "outputs": [],
      "source": [
        "#Merging\n",
        "# merge left, use df1.merge(df2, how=\"left\")\n"
      ]
    },
    {
      "cell_type": "code",
      "execution_count": null,
      "id": "30604942",
      "metadata": {
        "execution": {
          "iopub.execute_input": "2023-09-02T01:36:28.606096Z",
          "iopub.status.busy": "2023-09-02T01:36:28.605008Z",
          "iopub.status.idle": "2023-09-02T01:36:28.624550Z",
          "shell.execute_reply": "2023-09-02T01:36:28.623154Z"
        },
        "id": "30604942",
        "papermill": {
          "duration": 0.071045,
          "end_time": "2023-09-02T01:36:28.627083",
          "exception": false,
          "start_time": "2023-09-02T01:36:28.556038",
          "status": "completed"
        },
        "tags": []
      },
      "outputs": [],
      "source": [
        "#merge on right, use df1.merge(df2, how=\"right\")"
      ]
    },
    {
      "cell_type": "code",
      "execution_count": null,
      "id": "01b17294",
      "metadata": {
        "execution": {
          "iopub.execute_input": "2023-09-02T01:36:28.727539Z",
          "iopub.status.busy": "2023-09-02T01:36:28.726403Z",
          "iopub.status.idle": "2023-09-02T01:36:28.746388Z",
          "shell.execute_reply": "2023-09-02T01:36:28.744745Z"
        },
        "id": "01b17294",
        "papermill": {
          "duration": 0.07374,
          "end_time": "2023-09-02T01:36:28.749433",
          "exception": false,
          "start_time": "2023-09-02T01:36:28.675693",
          "status": "completed"
        },
        "tags": []
      },
      "outputs": [],
      "source": [
        "#merging on outer, use df1.merge(df2, how=\"outer\")"
      ]
    },
    {
      "cell_type": "markdown",
      "id": "479a529c",
      "metadata": {
        "id": "479a529c",
        "papermill": {
          "duration": 0.049882,
          "end_time": "2023-09-02T01:36:28.847685",
          "exception": false,
          "start_time": "2023-09-02T01:36:28.797803",
          "status": "completed"
        },
        "tags": []
      },
      "source": [
        "## Merge suffixes"
      ]
    },
    {
      "cell_type": "code",
      "execution_count": null,
      "id": "c2e55421",
      "metadata": {
        "execution": {
          "iopub.execute_input": "2023-09-02T01:36:28.950273Z",
          "iopub.status.busy": "2023-09-02T01:36:28.949264Z",
          "iopub.status.idle": "2023-09-02T01:36:28.970281Z",
          "shell.execute_reply": "2023-09-02T01:36:28.968993Z"
        },
        "id": "c2e55421",
        "papermill": {
          "duration": 0.073706,
          "end_time": "2023-09-02T01:36:28.972887",
          "exception": false,
          "start_time": "2023-09-02T01:36:28.899181",
          "status": "completed"
        },
        "tags": []
      },
      "outputs": [],
      "source": [
        "#merging using suffices use, pd.merge(df1, df2, on=['col1', 'col2'])"
      ]
    },
    {
      "cell_type": "code",
      "execution_count": null,
      "id": "af7ef50b",
      "metadata": {
        "execution": {
          "iopub.execute_input": "2023-09-02T01:36:29.075011Z",
          "iopub.status.busy": "2023-09-02T01:36:29.074619Z",
          "iopub.status.idle": "2023-09-02T01:36:29.192601Z",
          "shell.execute_reply": "2023-09-02T01:36:29.191261Z"
        },
        "id": "af7ef50b",
        "papermill": {
          "duration": 0.172666,
          "end_time": "2023-09-02T01:36:29.195408",
          "exception": false,
          "start_time": "2023-09-02T01:36:29.022742",
          "status": "completed"
        },
        "tags": []
      },
      "outputs": [],
      "source": [
        "#merge on specific similar column use pd.merge(df1, df2, on=df['col1'])"
      ]
    },
    {
      "cell_type": "code",
      "execution_count": null,
      "id": "40205e28",
      "metadata": {
        "execution": {
          "iopub.execute_input": "2023-09-02T01:36:29.507543Z",
          "iopub.status.busy": "2023-09-02T01:36:29.507076Z",
          "iopub.status.idle": "2023-09-02T01:36:29.610023Z",
          "shell.execute_reply": "2023-09-02T01:36:29.608788Z"
        },
        "id": "40205e28",
        "papermill": {
          "duration": 0.158268,
          "end_time": "2023-09-02T01:36:29.613205",
          "exception": false,
          "start_time": "2023-09-02T01:36:29.454937",
          "status": "completed"
        },
        "tags": []
      },
      "outputs": [],
      "source": [
        "#merging using both letf and right on,use pd.merge(df1, df2, left_on=['col1'], right_on=['col1'])"
      ]
    }
  ],
  "metadata": {
    "colab": {
      "provenance": []
    },
    "kernelspec": {
      "display_name": "Python 3 (ipykernel)",
      "language": "python",
      "name": "python3"
    },
    "language_info": {
      "codemirror_mode": {
        "name": "ipython",
        "version": 3
      },
      "file_extension": ".py",
      "mimetype": "text/x-python",
      "name": "python",
      "nbconvert_exporter": "python",
      "pygments_lexer": "ipython3",
      "version": "3.12.5"
    },
    "papermill": {
      "default_parameters": {},
      "duration": 184.129342,
      "end_time": "2023-09-02T01:36:31.794982",
      "environment_variables": {},
      "exception": null,
      "input_path": "__notebook__.ipynb",
      "output_path": "__notebook__.ipynb",
      "parameters": {},
      "start_time": "2023-09-02T01:33:27.665640",
      "version": "2.4.0"
    },
    "toc": {
      "base_numbering": 1,
      "nav_menu": {},
      "number_sections": true,
      "sideBar": true,
      "skip_h1_title": false,
      "title_cell": "Table of Contents",
      "title_sidebar": "Contents",
      "toc_cell": false,
      "toc_position": {},
      "toc_section_display": true,
      "toc_window_display": false
    }
  },
  "nbformat": 4,
  "nbformat_minor": 5
}
